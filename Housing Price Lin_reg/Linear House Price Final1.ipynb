{
 "cells": [
  {
   "cell_type": "code",
   "execution_count": 3,
   "metadata": {},
   "outputs": [],
   "source": [
    "import pandas as pd\n",
    "import os\n",
    "import numpy as np\n",
    "\n",
    "import matplotlib.pyplot as plt\n",
    "column_names=['CRIM', 'ZN', 'INDUS', 'CHAS', 'NOX', 'RM', 'AGE', 'DIS', 'RAD', 'TAX', 'PTRATIO', 'B', 'LSTAT', 'MEDV']"
   ]
  },
  {
   "cell_type": "code",
   "execution_count": 4,
   "metadata": {},
   "outputs": [],
   "source": [
    "housing=pd.read_csv(\"housing.csv\",header=None, delimiter=r\"\\s+\",names=column_names)\n"
   ]
  },
  {
   "cell_type": "code",
   "execution_count": 5,
   "metadata": {},
   "outputs": [],
   "source": [
    "housing.head(5)\n",
    "learning_rate=0.01\n",
    "iters=1000\n",
    "cost=np.zeros(iters)"
   ]
  },
  {
   "cell_type": "code",
   "execution_count": 6,
   "metadata": {},
   "outputs": [
    {
     "data": {
      "text/plain": [
       "<bound method DataFrame.info of         CRIM    ZN  INDUS  CHAS    NOX     RM   AGE     DIS  RAD    TAX  \\\n",
       "0    0.00632  18.0   2.31     0  0.538  6.575  65.2  4.0900    1  296.0   \n",
       "1    0.02731   0.0   7.07     0  0.469  6.421  78.9  4.9671    2  242.0   \n",
       "2    0.02729   0.0   7.07     0  0.469  7.185  61.1  4.9671    2  242.0   \n",
       "3    0.03237   0.0   2.18     0  0.458  6.998  45.8  6.0622    3  222.0   \n",
       "4    0.06905   0.0   2.18     0  0.458  7.147  54.2  6.0622    3  222.0   \n",
       "..       ...   ...    ...   ...    ...    ...   ...     ...  ...    ...   \n",
       "501  0.06263   0.0  11.93     0  0.573  6.593  69.1  2.4786    1  273.0   \n",
       "502  0.04527   0.0  11.93     0  0.573  6.120  76.7  2.2875    1  273.0   \n",
       "503  0.06076   0.0  11.93     0  0.573  6.976  91.0  2.1675    1  273.0   \n",
       "504  0.10959   0.0  11.93     0  0.573  6.794  89.3  2.3889    1  273.0   \n",
       "505  0.04741   0.0  11.93     0  0.573  6.030  80.8  2.5050    1  273.0   \n",
       "\n",
       "     PTRATIO       B  LSTAT  MEDV  \n",
       "0       15.3  396.90   4.98  24.0  \n",
       "1       17.8  396.90   9.14  21.6  \n",
       "2       17.8  392.83   4.03  34.7  \n",
       "3       18.7  394.63   2.94  33.4  \n",
       "4       18.7  396.90   5.33  36.2  \n",
       "..       ...     ...    ...   ...  \n",
       "501     21.0  391.99   9.67  22.4  \n",
       "502     21.0  396.90   9.08  20.6  \n",
       "503     21.0  396.90   5.64  23.9  \n",
       "504     21.0  393.45   6.48  22.0  \n",
       "505     21.0  396.90   7.88  11.9  \n",
       "\n",
       "[506 rows x 14 columns]>"
      ]
     },
     "execution_count": 6,
     "metadata": {},
     "output_type": "execute_result"
    }
   ],
   "source": [
    "housing.info\n"
   ]
  },
  {
   "cell_type": "code",
   "execution_count": 7,
   "metadata": {},
   "outputs": [
    {
     "data": {
      "text/html": [
       "<div>\n",
       "<style scoped>\n",
       "    .dataframe tbody tr th:only-of-type {\n",
       "        vertical-align: middle;\n",
       "    }\n",
       "\n",
       "    .dataframe tbody tr th {\n",
       "        vertical-align: top;\n",
       "    }\n",
       "\n",
       "    .dataframe thead th {\n",
       "        text-align: right;\n",
       "    }\n",
       "</style>\n",
       "<table border=\"1\" class=\"dataframe\">\n",
       "  <thead>\n",
       "    <tr style=\"text-align: right;\">\n",
       "      <th></th>\n",
       "      <th>CRIM</th>\n",
       "      <th>ZN</th>\n",
       "      <th>INDUS</th>\n",
       "      <th>CHAS</th>\n",
       "      <th>NOX</th>\n",
       "      <th>RM</th>\n",
       "      <th>AGE</th>\n",
       "      <th>DIS</th>\n",
       "      <th>RAD</th>\n",
       "      <th>TAX</th>\n",
       "      <th>PTRATIO</th>\n",
       "      <th>B</th>\n",
       "      <th>LSTAT</th>\n",
       "      <th>MEDV</th>\n",
       "    </tr>\n",
       "  </thead>\n",
       "  <tbody>\n",
       "    <tr>\n",
       "      <td>0</td>\n",
       "      <td>-0.419367</td>\n",
       "      <td>0.284548</td>\n",
       "      <td>-1.286636</td>\n",
       "      <td>-0.272329</td>\n",
       "      <td>-0.144075</td>\n",
       "      <td>0.413263</td>\n",
       "      <td>-0.119895</td>\n",
       "      <td>0.140075</td>\n",
       "      <td>-0.981871</td>\n",
       "      <td>-0.665949</td>\n",
       "      <td>-1.457558</td>\n",
       "      <td>0.440616</td>\n",
       "      <td>-1.074499</td>\n",
       "      <td>0.159528</td>\n",
       "    </tr>\n",
       "    <tr>\n",
       "      <td>1</td>\n",
       "      <td>-0.416927</td>\n",
       "      <td>-0.487240</td>\n",
       "      <td>-0.592794</td>\n",
       "      <td>-0.272329</td>\n",
       "      <td>-0.739530</td>\n",
       "      <td>0.194082</td>\n",
       "      <td>0.366803</td>\n",
       "      <td>0.556609</td>\n",
       "      <td>-0.867024</td>\n",
       "      <td>-0.986353</td>\n",
       "      <td>-0.302794</td>\n",
       "      <td>0.440616</td>\n",
       "      <td>-0.491953</td>\n",
       "      <td>-0.101424</td>\n",
       "    </tr>\n",
       "    <tr>\n",
       "      <td>2</td>\n",
       "      <td>-0.416929</td>\n",
       "      <td>-0.487240</td>\n",
       "      <td>-0.592794</td>\n",
       "      <td>-0.272329</td>\n",
       "      <td>-0.739530</td>\n",
       "      <td>1.281446</td>\n",
       "      <td>-0.265549</td>\n",
       "      <td>0.556609</td>\n",
       "      <td>-0.867024</td>\n",
       "      <td>-0.986353</td>\n",
       "      <td>-0.302794</td>\n",
       "      <td>0.396035</td>\n",
       "      <td>-1.207532</td>\n",
       "      <td>1.322937</td>\n",
       "    </tr>\n",
       "    <tr>\n",
       "      <td>3</td>\n",
       "      <td>-0.416338</td>\n",
       "      <td>-0.487240</td>\n",
       "      <td>-1.305586</td>\n",
       "      <td>-0.272329</td>\n",
       "      <td>-0.834458</td>\n",
       "      <td>1.015298</td>\n",
       "      <td>-0.809088</td>\n",
       "      <td>1.076671</td>\n",
       "      <td>-0.752178</td>\n",
       "      <td>-1.105022</td>\n",
       "      <td>0.112920</td>\n",
       "      <td>0.415751</td>\n",
       "      <td>-1.360171</td>\n",
       "      <td>1.181589</td>\n",
       "    </tr>\n",
       "    <tr>\n",
       "      <td>4</td>\n",
       "      <td>-0.412074</td>\n",
       "      <td>-0.487240</td>\n",
       "      <td>-1.305586</td>\n",
       "      <td>-0.272329</td>\n",
       "      <td>-0.834458</td>\n",
       "      <td>1.227362</td>\n",
       "      <td>-0.510674</td>\n",
       "      <td>1.076671</td>\n",
       "      <td>-0.752178</td>\n",
       "      <td>-1.105022</td>\n",
       "      <td>0.112920</td>\n",
       "      <td>0.440616</td>\n",
       "      <td>-1.025487</td>\n",
       "      <td>1.486032</td>\n",
       "    </tr>\n",
       "  </tbody>\n",
       "</table>\n",
       "</div>"
      ],
      "text/plain": [
       "       CRIM        ZN     INDUS      CHAS       NOX        RM       AGE  \\\n",
       "0 -0.419367  0.284548 -1.286636 -0.272329 -0.144075  0.413263 -0.119895   \n",
       "1 -0.416927 -0.487240 -0.592794 -0.272329 -0.739530  0.194082  0.366803   \n",
       "2 -0.416929 -0.487240 -0.592794 -0.272329 -0.739530  1.281446 -0.265549   \n",
       "3 -0.416338 -0.487240 -1.305586 -0.272329 -0.834458  1.015298 -0.809088   \n",
       "4 -0.412074 -0.487240 -1.305586 -0.272329 -0.834458  1.227362 -0.510674   \n",
       "\n",
       "        DIS       RAD       TAX   PTRATIO         B     LSTAT      MEDV  \n",
       "0  0.140075 -0.981871 -0.665949 -1.457558  0.440616 -1.074499  0.159528  \n",
       "1  0.556609 -0.867024 -0.986353 -0.302794  0.440616 -0.491953 -0.101424  \n",
       "2  0.556609 -0.867024 -0.986353 -0.302794  0.396035 -1.207532  1.322937  \n",
       "3  1.076671 -0.752178 -1.105022  0.112920  0.415751 -1.360171  1.181589  \n",
       "4  1.076671 -0.752178 -1.105022  0.112920  0.440616 -1.025487  1.486032  "
      ]
     },
     "execution_count": 7,
     "metadata": {},
     "output_type": "execute_result"
    }
   ],
   "source": [
    "#normaalise using feature scale\n",
    "housing=(housing-housing.mean())/housing.std()\n",
    "housing.head()"
   ]
  },
  {
   "cell_type": "code",
   "execution_count": 8,
   "metadata": {},
   "outputs": [
    {
     "data": {
      "text/html": [
       "<div>\n",
       "<style scoped>\n",
       "    .dataframe tbody tr th:only-of-type {\n",
       "        vertical-align: middle;\n",
       "    }\n",
       "\n",
       "    .dataframe tbody tr th {\n",
       "        vertical-align: top;\n",
       "    }\n",
       "\n",
       "    .dataframe thead th {\n",
       "        text-align: right;\n",
       "    }\n",
       "</style>\n",
       "<table border=\"1\" class=\"dataframe\">\n",
       "  <thead>\n",
       "    <tr style=\"text-align: right;\">\n",
       "      <th></th>\n",
       "      <th>CRIM</th>\n",
       "      <th>ZN</th>\n",
       "      <th>INDUS</th>\n",
       "      <th>CHAS</th>\n",
       "      <th>NOX</th>\n",
       "      <th>RM</th>\n",
       "      <th>AGE</th>\n",
       "      <th>DIS</th>\n",
       "      <th>RAD</th>\n",
       "      <th>TAX</th>\n",
       "      <th>PTRATIO</th>\n",
       "      <th>B</th>\n",
       "      <th>LSTAT</th>\n",
       "      <th>MEDV</th>\n",
       "    </tr>\n",
       "  </thead>\n",
       "  <tbody>\n",
       "    <tr>\n",
       "      <td>count</td>\n",
       "      <td>5.060000e+02</td>\n",
       "      <td>5.060000e+02</td>\n",
       "      <td>5.060000e+02</td>\n",
       "      <td>5.060000e+02</td>\n",
       "      <td>5.060000e+02</td>\n",
       "      <td>5.060000e+02</td>\n",
       "      <td>5.060000e+02</td>\n",
       "      <td>5.060000e+02</td>\n",
       "      <td>5.060000e+02</td>\n",
       "      <td>5.060000e+02</td>\n",
       "      <td>5.060000e+02</td>\n",
       "      <td>5.060000e+02</td>\n",
       "      <td>5.060000e+02</td>\n",
       "      <td>5.060000e+02</td>\n",
       "    </tr>\n",
       "    <tr>\n",
       "      <td>mean</td>\n",
       "      <td>-5.616939e-17</td>\n",
       "      <td>6.319056e-17</td>\n",
       "      <td>-3.145486e-15</td>\n",
       "      <td>-7.021173e-17</td>\n",
       "      <td>2.611876e-15</td>\n",
       "      <td>-1.148313e-14</td>\n",
       "      <td>-1.200621e-15</td>\n",
       "      <td>7.161597e-16</td>\n",
       "      <td>1.123388e-16</td>\n",
       "      <td>5.616939e-17</td>\n",
       "      <td>-1.022283e-14</td>\n",
       "      <td>8.593916e-15</td>\n",
       "      <td>-5.897786e-16</td>\n",
       "      <td>-2.864639e-15</td>\n",
       "    </tr>\n",
       "    <tr>\n",
       "      <td>std</td>\n",
       "      <td>1.000000e+00</td>\n",
       "      <td>1.000000e+00</td>\n",
       "      <td>1.000000e+00</td>\n",
       "      <td>1.000000e+00</td>\n",
       "      <td>1.000000e+00</td>\n",
       "      <td>1.000000e+00</td>\n",
       "      <td>1.000000e+00</td>\n",
       "      <td>1.000000e+00</td>\n",
       "      <td>1.000000e+00</td>\n",
       "      <td>1.000000e+00</td>\n",
       "      <td>1.000000e+00</td>\n",
       "      <td>1.000000e+00</td>\n",
       "      <td>1.000000e+00</td>\n",
       "      <td>1.000000e+00</td>\n",
       "    </tr>\n",
       "    <tr>\n",
       "      <td>min</td>\n",
       "      <td>-4.193669e-01</td>\n",
       "      <td>-4.872402e-01</td>\n",
       "      <td>-1.556302e+00</td>\n",
       "      <td>-2.723291e-01</td>\n",
       "      <td>-1.464433e+00</td>\n",
       "      <td>-3.876413e+00</td>\n",
       "      <td>-2.333128e+00</td>\n",
       "      <td>-1.265817e+00</td>\n",
       "      <td>-9.818712e-01</td>\n",
       "      <td>-1.312691e+00</td>\n",
       "      <td>-2.704703e+00</td>\n",
       "      <td>-3.903331e+00</td>\n",
       "      <td>-1.529613e+00</td>\n",
       "      <td>-1.906340e+00</td>\n",
       "    </tr>\n",
       "    <tr>\n",
       "      <td>25%</td>\n",
       "      <td>-4.105633e-01</td>\n",
       "      <td>-4.872402e-01</td>\n",
       "      <td>-8.668328e-01</td>\n",
       "      <td>-2.723291e-01</td>\n",
       "      <td>-9.121262e-01</td>\n",
       "      <td>-5.680681e-01</td>\n",
       "      <td>-8.366200e-01</td>\n",
       "      <td>-8.048913e-01</td>\n",
       "      <td>-6.373311e-01</td>\n",
       "      <td>-7.668172e-01</td>\n",
       "      <td>-4.875567e-01</td>\n",
       "      <td>2.048688e-01</td>\n",
       "      <td>-7.986296e-01</td>\n",
       "      <td>-5.988631e-01</td>\n",
       "    </tr>\n",
       "    <tr>\n",
       "      <td>50%</td>\n",
       "      <td>-3.902803e-01</td>\n",
       "      <td>-4.872402e-01</td>\n",
       "      <td>-2.108898e-01</td>\n",
       "      <td>-2.723291e-01</td>\n",
       "      <td>-1.440749e-01</td>\n",
       "      <td>-1.083583e-01</td>\n",
       "      <td>3.170678e-01</td>\n",
       "      <td>-2.790473e-01</td>\n",
       "      <td>-5.224844e-01</td>\n",
       "      <td>-4.642132e-01</td>\n",
       "      <td>2.745872e-01</td>\n",
       "      <td>3.808097e-01</td>\n",
       "      <td>-1.810744e-01</td>\n",
       "      <td>-1.449159e-01</td>\n",
       "    </tr>\n",
       "    <tr>\n",
       "      <td>75%</td>\n",
       "      <td>7.389247e-03</td>\n",
       "      <td>4.872402e-02</td>\n",
       "      <td>1.014995e+00</td>\n",
       "      <td>-2.723291e-01</td>\n",
       "      <td>5.980871e-01</td>\n",
       "      <td>4.822906e-01</td>\n",
       "      <td>9.059016e-01</td>\n",
       "      <td>6.617161e-01</td>\n",
       "      <td>1.659603e+00</td>\n",
       "      <td>1.529413e+00</td>\n",
       "      <td>8.057784e-01</td>\n",
       "      <td>4.332223e-01</td>\n",
       "      <td>6.024226e-01</td>\n",
       "      <td>2.682577e-01</td>\n",
       "    </tr>\n",
       "    <tr>\n",
       "      <td>max</td>\n",
       "      <td>9.924110e+00</td>\n",
       "      <td>3.800473e+00</td>\n",
       "      <td>2.420170e+00</td>\n",
       "      <td>3.664771e+00</td>\n",
       "      <td>2.729645e+00</td>\n",
       "      <td>3.551530e+00</td>\n",
       "      <td>1.116390e+00</td>\n",
       "      <td>3.956602e+00</td>\n",
       "      <td>1.659603e+00</td>\n",
       "      <td>1.796416e+00</td>\n",
       "      <td>1.637208e+00</td>\n",
       "      <td>4.406159e-01</td>\n",
       "      <td>3.545262e+00</td>\n",
       "      <td>2.986505e+00</td>\n",
       "    </tr>\n",
       "  </tbody>\n",
       "</table>\n",
       "</div>"
      ],
      "text/plain": [
       "               CRIM            ZN         INDUS          CHAS           NOX  \\\n",
       "count  5.060000e+02  5.060000e+02  5.060000e+02  5.060000e+02  5.060000e+02   \n",
       "mean  -5.616939e-17  6.319056e-17 -3.145486e-15 -7.021173e-17  2.611876e-15   \n",
       "std    1.000000e+00  1.000000e+00  1.000000e+00  1.000000e+00  1.000000e+00   \n",
       "min   -4.193669e-01 -4.872402e-01 -1.556302e+00 -2.723291e-01 -1.464433e+00   \n",
       "25%   -4.105633e-01 -4.872402e-01 -8.668328e-01 -2.723291e-01 -9.121262e-01   \n",
       "50%   -3.902803e-01 -4.872402e-01 -2.108898e-01 -2.723291e-01 -1.440749e-01   \n",
       "75%    7.389247e-03  4.872402e-02  1.014995e+00 -2.723291e-01  5.980871e-01   \n",
       "max    9.924110e+00  3.800473e+00  2.420170e+00  3.664771e+00  2.729645e+00   \n",
       "\n",
       "                 RM           AGE           DIS           RAD           TAX  \\\n",
       "count  5.060000e+02  5.060000e+02  5.060000e+02  5.060000e+02  5.060000e+02   \n",
       "mean  -1.148313e-14 -1.200621e-15  7.161597e-16  1.123388e-16  5.616939e-17   \n",
       "std    1.000000e+00  1.000000e+00  1.000000e+00  1.000000e+00  1.000000e+00   \n",
       "min   -3.876413e+00 -2.333128e+00 -1.265817e+00 -9.818712e-01 -1.312691e+00   \n",
       "25%   -5.680681e-01 -8.366200e-01 -8.048913e-01 -6.373311e-01 -7.668172e-01   \n",
       "50%   -1.083583e-01  3.170678e-01 -2.790473e-01 -5.224844e-01 -4.642132e-01   \n",
       "75%    4.822906e-01  9.059016e-01  6.617161e-01  1.659603e+00  1.529413e+00   \n",
       "max    3.551530e+00  1.116390e+00  3.956602e+00  1.659603e+00  1.796416e+00   \n",
       "\n",
       "            PTRATIO             B         LSTAT          MEDV  \n",
       "count  5.060000e+02  5.060000e+02  5.060000e+02  5.060000e+02  \n",
       "mean  -1.022283e-14  8.593916e-15 -5.897786e-16 -2.864639e-15  \n",
       "std    1.000000e+00  1.000000e+00  1.000000e+00  1.000000e+00  \n",
       "min   -2.704703e+00 -3.903331e+00 -1.529613e+00 -1.906340e+00  \n",
       "25%   -4.875567e-01  2.048688e-01 -7.986296e-01 -5.988631e-01  \n",
       "50%    2.745872e-01  3.808097e-01 -1.810744e-01 -1.449159e-01  \n",
       "75%    8.057784e-01  4.332223e-01  6.024226e-01  2.682577e-01  \n",
       "max    1.637208e+00  4.406159e-01  3.545262e+00  2.986505e+00  "
      ]
     },
     "execution_count": 8,
     "metadata": {},
     "output_type": "execute_result"
    }
   ],
   "source": [
    "housing.describe()\n"
   ]
  },
  {
   "cell_type": "code",
   "execution_count": 9,
   "metadata": {},
   "outputs": [
    {
     "data": {
      "text/plain": [
       "Index(['CRIM', 'ZN', 'INDUS', 'CHAS', 'NOX', 'RM', 'AGE', 'DIS', 'RAD', 'TAX',\n",
       "       'PTRATIO', 'B', 'LSTAT', 'MEDV'],\n",
       "      dtype='object')"
      ]
     },
     "execution_count": 9,
     "metadata": {},
     "output_type": "execute_result"
    }
   ],
   "source": [
    "housing.columns"
   ]
  },
  {
   "cell_type": "code",
   "execution_count": 10,
   "metadata": {},
   "outputs": [],
   "source": [
    "#house=np.genfromtxt(\"housing.csv\")\n",
    "#print(housing.shape)\n",
    "#indices=range(housing.shape[0])\n",
    "\n",
    "#print(indices)"
   ]
  },
  {
   "cell_type": "code",
   "execution_count": 11,
   "metadata": {},
   "outputs": [
    {
     "data": {
      "text/plain": [
       "'\\nprint(housing.shape)\\nnum_of_rows=int(housing.shape[0]*0.8)\\nindices=range(housing.shape[0])\\nnp.random.shuffle(indices)\\ntrain_data=housing.iloc[:num_of_rows]\\ntest_data=housing.iloc[num_of_rows:]\\ntrain_data.sort()\\ntest_data.sort()\\n'"
      ]
     },
     "execution_count": 11,
     "metadata": {},
     "output_type": "execute_result"
    }
   ],
   "source": [
    "\"\"\"\n",
    "print(housing.shape)\n",
    "num_of_rows=int(housing.shape[0]*0.8)\n",
    "indices=range(housing.shape[0])\n",
    "np.random.shuffle(indices)\n",
    "train_data=housing.iloc[:num_of_rows]\n",
    "test_data=housing.iloc[num_of_rows:]\n",
    "train_data.sort()\n",
    "test_data.sort()\n",
    "\"\"\"\n"
   ]
  },
  {
   "cell_type": "code",
   "execution_count": 12,
   "metadata": {},
   "outputs": [
    {
     "name": "stdout",
     "output_type": "stream",
     "text": [
      "(506, 14) (506, 14)\n",
      "<class 'numpy.ndarray'>\n"
     ]
    }
   ],
   "source": [
    "x=pd.DataFrame(housing).to_numpy()\n",
    "y=pd.DataFrame(housing).to_numpy()\n",
    "print(x.shape,y.shape)\n",
    "t=(int)(0.8*len(x))\n",
    "print(type(x))\n",
    " "
   ]
  },
  {
   "cell_type": "code",
   "execution_count": 13,
   "metadata": {
    "scrolled": true
   },
   "outputs": [
    {
     "name": "stdout",
     "output_type": "stream",
     "text": [
      "(404, 14) (102, 14) (102, 14) (404, 14)\n"
     ]
    }
   ],
   "source": [
    "x_train,y_train=x[:t,:],y[:t,:]\n",
    "x_test,y_test=x[t:,:],y[t:,:]\n",
    "print(x_train.shape,x_test.shape,y_test.shape,y_train.shape)"
   ]
  },
  {
   "cell_type": "code",
   "execution_count": 14,
   "metadata": {},
   "outputs": [
    {
     "name": "stdout",
     "output_type": "stream",
     "text": [
      "404\n"
     ]
    }
   ],
   "source": [
    "print(len(x_train))\n",
    "train_b=np.ones((len(x_train),1))\n",
    "test_b=np.ones((len(x_test),1))\n",
    "#print(train_b)\n"
   ]
  },
  {
   "cell_type": "code",
   "execution_count": 15,
   "metadata": {},
   "outputs": [
    {
     "name": "stdout",
     "output_type": "stream",
     "text": [
      "          0         1         2         3         4         5         6  \\\n",
      "0 -0.419367  0.284548 -1.286636 -0.272329 -0.144075  0.413263 -0.119895   \n",
      "1 -0.416927 -0.487240 -0.592794 -0.272329 -0.739530  0.194082  0.366803   \n",
      "2 -0.416929 -0.487240 -0.592794 -0.272329 -0.739530  1.281446 -0.265549   \n",
      "3 -0.416338 -0.487240 -1.305586 -0.272329 -0.834458  1.015298 -0.809088   \n",
      "4 -0.412074 -0.487240 -1.305586 -0.272329 -0.834458  1.227362 -0.510674   \n",
      "\n",
      "          7         8         9        10        11        12   13  \n",
      "0  0.140075 -0.981871 -0.665949 -1.457558  0.440616 -1.074499  1.0  \n",
      "1  0.556609 -0.867024 -0.986353 -0.302794  0.440616 -0.491953  1.0  \n",
      "2  0.556609 -0.867024 -0.986353 -0.302794  0.396035 -1.207532  1.0  \n",
      "3  1.076671 -0.752178 -1.105022  0.112920  0.415751 -1.360171  1.0  \n",
      "4  1.076671 -0.752178 -1.105022  0.112920  0.440616 -1.025487  1.0  \n",
      "(404, 14) (102, 14)\n"
     ]
    }
   ],
   "source": [
    "x_train=pd.DataFrame(x_train)\n",
    "x_test=pd.DataFrame(x_test)\n",
    "x_train[13]=train_b\n",
    "x_test[13]=test_b\n",
    "\n",
    "print(x_train.head())\n",
    "print(x_train.shape,x_test.shape)\n"
   ]
  },
  {
   "cell_type": "code",
   "execution_count": 16,
   "metadata": {},
   "outputs": [
    {
     "data": {
      "text/plain": [
       "'x_train=(x_train-x_train.mean())/x_train.std()\\nx_test=(x_test-x_test.mean())/x_test.std()'"
      ]
     },
     "execution_count": 16,
     "metadata": {},
     "output_type": "execute_result"
    }
   ],
   "source": [
    "\"\"\"x_train=(x_train-x_train.mean())/x_train.std()\n",
    "x_test=(x_test-x_test.mean())/x_test.std()\"\"\""
   ]
  },
  {
   "cell_type": "code",
   "execution_count": 17,
   "metadata": {},
   "outputs": [],
   "source": [
    "weight=np.zeros([1,14],dtype='float')"
   ]
  },
  {
   "cell_type": "code",
   "execution_count": 18,
   "metadata": {},
   "outputs": [],
   "source": [
    "x_train=pd.DataFrame(x_train).to_numpy()\n",
    "x_test=pd.DataFrame(x_test).to_numpy()\n"
   ]
  },
  {
   "cell_type": "code",
   "execution_count": 19,
   "metadata": {},
   "outputs": [
    {
     "name": "stdout",
     "output_type": "stream",
     "text": [
      "(404, 14) (14, 1)\n",
      "(404, 1)\n"
     ]
    }
   ],
   "source": [
    "print(x_train.shape,weight.T.shape)\n",
    "def hypo(x_train,weight):\n",
    "    return np.dot(x_train,weight.T)\n",
    "p=np.dot(x_train,weight.T)\n",
    "print(p.shape)"
   ]
  },
  {
   "cell_type": "code",
   "execution_count": 49,
   "metadata": {},
   "outputs": [],
   "source": [
    "def cost_function(x_train,y_train,weight):\n",
    "    p=hypo(x_train,weight)\n",
    "    sum=0\n",
    "    for i in range(len(p)):\n",
    "        sum+=(y_train[i,0]-p[i,0])**2\n",
    "    return sum/len(p)    \n",
    "    "
   ]
  },
  {
   "cell_type": "code",
   "execution_count": 42,
   "metadata": {},
   "outputs": [
    {
     "data": {
      "text/plain": [
       "404"
      ]
     },
     "execution_count": 42,
     "metadata": {},
     "output_type": "execute_result"
    }
   ],
   "source": [
    "len(x_train)"
   ]
  },
  {
   "cell_type": "code",
   "execution_count": 43,
   "metadata": {},
   "outputs": [
    {
     "data": {
      "text/plain": [
       "(404, 14)"
      ]
     },
     "execution_count": 43,
     "metadata": {},
     "output_type": "execute_result"
    }
   ],
   "source": [
    "x_train.shape\n"
   ]
  },
  {
   "cell_type": "code",
   "execution_count": 44,
   "metadata": {},
   "outputs": [],
   "source": [
    "def gd(weight,x_train,y_train,learning_rate):\n",
    "    wt=np.zeros([len(x_train),14],dtype='float')\n",
    "    s=np.zeros([len(x_train),1],dtype='float')\n",
    "    p=hypo(x_train,weight)\n",
    "    \n",
    "    for i in range(len(x_train)):\n",
    "        for j in range(14):\n",
    "            wt[i,j]=-2*x_train[i,j]*(y_train[i,0]-p[i,0])\n",
    "            \n",
    "    for i in range(14):\n",
    "        for j in range(len(x_train)): \n",
    "            s[i]+=wt[j,i]\n",
    "            \n",
    "    for i in range(14):\n",
    "        weight[0,i]-=(s[i]/(len(x_train)*2))*learning_rate\n",
    "        \n",
    "    return weight"
   ]
  },
  {
   "cell_type": "code",
   "execution_count": 45,
   "metadata": {},
   "outputs": [],
   "source": [
    "def train(x_train,y_train,weight,learning_rate,iters):\n",
    "    for i in range(iters):\n",
    "        gd(weight,x_train,y_train,learning_rate)\n",
    "        cost[i]=cost_function(x_train,y_train,weight)\n",
    "        if i%100 is 0:\n",
    "            print(cost_function(x_train,y_train,weight),\"\\n\")\n",
    "            \n",
    "        "
   ]
  },
  {
   "cell_type": "code",
   "execution_count": 46,
   "metadata": {},
   "outputs": [
    {
     "name": "stdout",
     "output_type": "stream",
     "text": [
      "1.0011279358225474e-06 \n",
      "\n",
      "7.884970734106726e-07 \n",
      "\n",
      "6.297738192361586e-07 \n",
      "\n",
      "5.098566966296053e-07 \n",
      "\n",
      "4.180990041609876e-07 \n",
      "\n",
      "3.4695485454923946e-07 \n",
      "\n",
      "2.910458743485672e-07 \n",
      "\n",
      "2.465151553911138e-07 \n",
      "\n",
      "2.1057831778197804e-07 \n",
      "\n",
      "1.8121040574600074e-07 \n",
      "\n",
      "After errors, cost:\n",
      "\n",
      "1.0540059419315188e-06\n"
     ]
    }
   ],
   "source": [
    "\n",
    "train(x_train,y_train,weight,learning_rate,iters)\n",
    "mse=cost_function(x_test,y_test,weight)\n",
    "print(\"After errors, cost:\\n\")\n",
    "print(mse)"
   ]
  },
  {
   "cell_type": "code",
   "execution_count": 47,
   "metadata": {},
   "outputs": [
    {
     "data": {
      "text/plain": [
       "Text(0.5, 1.0, 'Error vs. Training Epoch')"
      ]
     },
     "execution_count": 47,
     "metadata": {},
     "output_type": "execute_result"
    },
    {
     "data": {
      "image/png": "[encoded data removed]",
      "text/plain": [
       "<Figure size 432x288 with 1 Axes>"
      ]
     },
     "metadata": {
      "needs_background": "light"
     },
     "output_type": "display_data"
    }
   ],
   "source": [
    "fig, ax = plt.subplots()  \n",
    "ax.plot(np.arange(iters), cost, 'b')  \n",
    "ax.set_xlabel('Iterations')  \n",
    "ax.set_ylabel('Cost')  \n",
    "ax.set_title('Error vs. Training Epoch')  "
   ]
  },
  {
   "cell_type": "code",
   "execution_count": null,
   "metadata": {},
   "outputs": [],
   "source": []
  },
  {
   "cell_type": "code",
   "execution_count": null,
   "metadata": {},
   "outputs": [],
   "source": []
  },
  {
   "cell_type": "code",
   "execution_count": null,
   "metadata": {},
   "outputs": [],
   "source": []
  }
 ],
 "metadata": {
  "kernelspec": {
   "display_name": "Python 3",
   "language": "python",
   "name": "python3"
  },
  "language_info": {
   "codemirror_mode": {
    "name": "ipython",
    "version": 3
   },
   "file_extension": ".py",
   "mimetype": "text/x-python",
   "name": "python",
   "nbconvert_exporter": "python",
   "pygments_lexer": "ipython3",
   "version": "3.7.4"
  }
 },
 "nbformat": 4,
 "nbformat_minor": 2
}
