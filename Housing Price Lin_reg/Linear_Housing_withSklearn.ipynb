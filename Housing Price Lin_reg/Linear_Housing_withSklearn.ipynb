{
 "cells": [
  {
   "cell_type": "code",
   "execution_count": 20,
   "metadata": {},
   "outputs": [],
   "source": [
    "import numpy as np\n",
    "import pandas as pd\n",
    "import matplotlib as plt\n",
    "from sklearn import datasets\n",
    "import matplotlib.pyplot as plt\n",
    "x,y = datasets.load_boston(return_X_y=True)\n",
    "\n",
    "\n"
   ]
  },
  {
   "cell_type": "code",
   "execution_count": 21,
   "metadata": {},
   "outputs": [
    {
     "name": "stdout",
     "output_type": "stream",
     "text": [
      "(506, 13)\n",
      "(102, 13) (102, 1) (102, 13) (102, 1)\n"
     ]
    }
   ],
   "source": [
    "x=pd.DataFrame(x).to_numpy()\n",
    "y=pd.DataFrame(y).to_numpy()\n",
    "print(x.shape)\n",
    "split=(int)(0.8*len(x))\n",
    "\n",
    "x = (x - x.mean())/(x.max()-x.min())\n",
    "y = (y - y.mean())/(y.max()-y.min())\n",
    "\n",
    "\n",
    "xtrain, ytrain =x[:split, :], y[:split, :]\n",
    "xtrain, ytrain=x[split:, :], y[split:, :]\n",
    "\n",
    "print(xtrain.shape, ytrain.shape,xtrain.shape, ytrain.shape)\n",
    "\n",
    "onestrain=np.ones((len(xtrain), 1))\n",
    "onestest=np.ones((len(xtest), 1))\n",
    "\n",
    "xtrain=pd.DataFrame(xtrain)\n",
    "xtest=pd.DataFrame(xtest)\n",
    "xtrain[13]=onestrain\n",
    "xtest[13]=onestest\n"
   ]
  },
  {
   "cell_type": "code",
   "execution_count": 19,
   "metadata": {},
   "outputs": [],
   "source": [
    "weights = np.zeros([1,14])"
   ]
  },
  {
   "cell_type": "code",
   "execution_count": 12,
   "metadata": {},
   "outputs": [],
   "source": [
    "xtrain=pd.DataFrame(xtrain).to_numpy()\n",
    "xtest=pd.DataFrame(xtest).to_numpy()\n",
    "\n",
    "alpha = 0.05\n",
    "iters = 3000"
   ]
  },
  {
   "cell_type": "code",
   "execution_count": 13,
   "metadata": {},
   "outputs": [],
   "source": [
    "def computecost(xtrain, ytrain, weights):\n",
    "    n=len(ytrain)\n",
    "    sum = np.power((np.dot(xtrain, weights.T)-ytrain),2)\n",
    "  \n",
    "    return np.sum(sum)/(2 * len(xtrain))"
   ]
  },
  {
   "cell_type": "code",
   "execution_count": 14,
   "metadata": {},
   "outputs": [],
   "source": [
    "def gd(xtrain,ytrain,weights,iters,alpha):\n",
    "    cost = np.zeros(iters)\n",
    "    for i in range(iters):\n",
    "        weights = weights - (alpha/len(xtrain)) * np.sum(( np.dot(xtrain, weights.T) - ytrain)*xtrain, axis=0)\n",
    "        cost[i] = computecost(xtrain, ytrain, weights)\n",
    "    \n",
    "    return weights,cost"
   ]
  },
  {
   "cell_type": "code",
   "execution_count": 15,
   "metadata": {},
   "outputs": [
    {
     "name": "stdout",
     "output_type": "stream",
     "text": [
      "[[-0.04472468  0.23015187 -0.06478667 -0.0071148  -0.00972362  0.01224611\n",
      "  -0.17377049 -0.01095925 -0.00600198 -0.33898975 -0.0409231   0.15093159\n",
      "  -0.17517657  0.09308609]]\n",
      "0.017861217787749566\n",
      "(14, 1)\n"
     ]
    }
   ],
   "source": [
    "g,cost = gd(xtrain,ytrain,weights,iters,alpha)\n",
    "print(g)\n",
    "#print(cost)\n",
    "\n",
    "finalCost = computecost(xtrain,ytrain,g)\n",
    "print(finalCost)\n",
    "print(weights.T.shape)"
   ]
  },
  {
   "cell_type": "code",
   "execution_count": 16,
   "metadata": {},
   "outputs": [
    {
     "data": {
      "text/plain": [
       "Text(0.5, 1.0, 'Error vs. Training Epoch')"
      ]
     },
     "execution_count": 16,
     "metadata": {},
     "output_type": "execute_result"
    },
    {
     "data": {
      "image/png": "[encoded data removed]",
      "text/plain": [
       "<Figure size 432x288 with 1 Axes>"
      ]
     },
     "metadata": {
      "needs_background": "light"
     },
     "output_type": "display_data"
    }
   ],
   "source": [
    "fig, ax = plt.subplots()  \n",
    "ax.plot(np.arange(iters), cost, 'r')  \n",
    "ax.set_xlabel('Iterations')  \n",
    "ax.set_ylabel('Cost')  \n",
    "ax.set_title('Error vs. Training Epoch') "
   ]
  },
  {
   "cell_type": "code",
   "execution_count": null,
   "metadata": {},
   "outputs": [],
   "source": []
  }
 ],
 "metadata": {
  "kernelspec": {
   "display_name": "Python 3",
   "language": "python",
   "name": "python3"
  },
  "language_info": {
   "codemirror_mode": {
    "name": "ipython",
    "version": 3
   },
   "file_extension": ".py",
   "mimetype": "text/x-python",
   "name": "python",
   "nbconvert_exporter": "python",
   "pygments_lexer": "ipython3",
   "version": "3.7.4"
  }
 },
 "nbformat": 4,
 "nbformat_minor": 2
}
